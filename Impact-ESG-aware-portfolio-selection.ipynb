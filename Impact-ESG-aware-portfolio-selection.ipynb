{
 "cells": [
  {
   "cell_type": "markdown",
   "metadata": {},
   "source": [
    "# Sustainable Portfolio Selection: An Approach to Impact Modeling\n",
    "\n",
    "In our article [Sustainable Portfolio Selection -- Markowitz goes ESG](https://developers.refinitiv.com/en/article-catalog/article/SustainablePortfolioSelection) we describe the importance of ecological, social and governance (ESG) aspects of financial services and give a first approach, how ESG measures can be included into portfolio selection strategies.  Basically, ESG-ratings of financial instruments, like for instance Refinitiv's ESG Scores, can be mathematically treated similar to mean historical returns. As a result, one can balance estimates for risk and/or return with ESG-ratings and compute portfolios of financial instruments with high average ESG Score as well as good risk measures.\n",
    "\n",
    "In this follow-up article we adhere to the fact that high ESG-ratings can have a different impact in different industrial sectors or countries. We will show, how impact data can be integrated into portfolio selection models with ESG-awareness.  \n",
    "\n",
    "### Overview\n",
    "\n",
    "In this tutorial you can learn \n",
    " * to get business sector information from Refinitiv and to plot the sector distribution of a weighted portfolio;\n",
    " * how to balance volatility as a risk measure with portfolio returns and ESG-measures in portfolio selection;\n",
    " * about the basics of impact modeling, and how sector impact information can be included into portfolio selection. \n",
    " \n",
    "We build on the steps in [Sustainable Portfolio Selection -- Markowitz goes ESG](https://developers.refinitiv.com/en/article-catalog/article/SustainablePortfolioSelection), where basically a classical Markowitz model is employed, but returns are replaced by ESG-ratings. This tutorial is structured as follows: \n",
    " * **Step 1** Get data via eikon, prepare the basic data structures. \n",
    " * **Step 2** Build the minimum volatility portfolio (MVP) and analyze its business sector distribution.\n",
    " * **Step 3** Build a portfolio, where volatility is balanced with return and also the *ESG-score*. \n",
    " * **Step 4** Build a model for impact-ESG and utilize it to select a portfolio, where volatility is balanced with return and the *impact-ESG-score*.\n",
    "\n",
    "\n",
    "### Technical prerequisites\n",
    "\n",
    " * Refinitiv Eikon / Workspace with access to Eikon Data APIs (Free Trial Available)\n",
    " * Python 3.x\n",
    " * Required Python Packages: eikon, pandas 0.17.0 or higher, numpy, random, scipy, matplotlib, os\n"
   ]
  },
  {
   "cell_type": "code",
   "execution_count": 4,
   "metadata": {},
   "outputs": [
    {
     "name": "stderr",
     "output_type": "stream",
     "text": [
      "ERROR!!! An error occurred while requesting URL('http://localhost:9000/api/status').\n",
      "     ReadTimeout('')\n",
      "ERROR!!! An error occurred while requesting URL('http://localhost:9000/api/status').\n",
      "     ReadTimeout('')\n",
      "ERROR!!! An error occurred while requesting URL('http://localhost:36036/api/status').\n",
      "     ConnectError(\"Multiple exceptions: [Errno 61] Connect call failed ('::1', 36036, 0, 0), [Errno 61] Connect call failed ('127.0.0.1', 36036)\")\n",
      "Error: no proxy address identified.\n",
      "Check if Desktop is running.\n",
      "Error on handshake url http://localhost:9000/api/handshake : JSONDecodeError('Expecting value: line 1 column 1 (char 0)')\n"
     ]
    }
   ],
   "source": [
    "import pandas\n",
    "import numpy\n",
    "import random\n",
    "import matplotlib.pyplot as plt\n",
    "import scipy.optimize as sco \n",
    "import os\n",
    "import refinitiv.dataplatform.eikon as ek\n",
    "\n",
    "ek.set_app_key('5e69a8b3903a4c50ab44d4cc565db992d85b81ef')"
   ]
  },
  {
   "cell_type": "markdown",
   "metadata": {},
   "source": [
    "## Data acquisition and universe selection\n",
    "Our portfolio will be built from a universe (or a pre-selection) of shares. We will work based on the ETF iShares Core MSCI World UCITS ETF USD which refers to the MSCI World index. In difference to our earlier article, we enforce a lower bound on the ESG rating of financial instruments in the portfolio universe just from the beginning. "
   ]
  },
  {
   "cell_type": "markdown",
   "metadata": {},
   "source": [
    "### Reading the universe from Eikon\n",
    "We use Eikon to get the constituents of the index. For simplicity we will reduce the list of entries here to 350. Besides the instrument identifer RIC, we load company names, their TR ESG Scores as well as the NACE Classification data which refers to the \"Statistical Classification of Economic Activities in the European Community\". Lateron, this data will be used to constitute an sector-related ESG impact. "
   ]
  },
  {
   "cell_type": "code",
   "execution_count": null,
   "metadata": {
    "scrolled": true
   },
   "outputs": [],
   "source": [
    "N = 350\n",
    "constituents, err = ek.get_data(['IWDA.L'], ['TR.ETPConstituentRIC', 'TR.ETPConstituentName'])\n",
    "constituents.rename(columns={'Constituent RIC': 'ric', 'Constituent Name': 'name'}, inplace=True)\n",
    "constituents = constituents[['ric','name']][0:N].drop_duplicates(subset=['ric'])\n",
    "ric_list = list(constituents.ric[constituents.ric.astype(bool)])\n",
    "\n",
    "df_esg, err = ek.get_data(ric_list, ['TR.CommonName', 'TR.TRESGScore','TR.BusinessSummary','TR.NACEClassification'])\n",
    "df_esg = df_esg.rename(columns={'Company Common Name':'name', 'Instrument':'ric', 'ESG Score':'esg', 'NACE Classification':'nace'})\n",
    "df_esg = df_esg.drop_duplicates(subset=['ric']).set_index('ric')"
   ]
  },
  {
   "cell_type": "markdown",
   "metadata": {},
   "source": [
    "### Constructing industrial sector information\n",
    "There exist different classification systems mapping the economic activities of a company to a business sector. Refinitiv offers a bunch of these business sector information. One can, amongst others, download the sector with respect to the North American Industry Classification System (NAICS), the The Refinitiv Business Classification (TRBC), or -- as it is done here -- the NACE. The data item TR.NACEClassification is composed as follows, \n",
    "> BUSINESS SECTOR DESCRIPTION (NACE) (XX.YY)\n",
    "\n",
    "We will utilize the business division encoded in **XX** and thus extract the string positions [-6:-4]. This data is included to the instruments' pandas dataframe.\n"
   ]
  },
  {
   "cell_type": "code",
   "execution_count": null,
   "metadata": {
    "scrolled": true
   },
   "outputs": [],
   "source": [
    "nace_code_list =[]\n",
    "for instr in ric_list:\n",
    "    df_instr = df_esg.loc[instr]\n",
    "    nace_code_list.append(df_instr['nace'][-6:-4])\n",
    "    \n",
    "df_nace = pandas.DataFrame(data=[ric_list,nace_code_list],index=['ric','nace_code']).T.set_index('ric')\n",
    "df_esg_nace = pandas.concat([df_esg,df_nace],axis=1)[df_nace['nace_code'].map(len)>0]"
   ]
  },
  {
   "cell_type": "markdown",
   "metadata": {},
   "source": [
    "Note that in the last line of code we exclude instruments where the NACE division code is missing. \n",
    "### Filter those instruments with high ESG Score\n",
    "We now enforce a strict lower bound on the ESG Score of instruments for the portfolio to ensure a basic quality by means of ecological and social aspects. "
   ]
  },
  {
   "cell_type": "code",
   "execution_count": null,
   "metadata": {},
   "outputs": [],
   "source": [
    "esg_bound = 70\n",
    "df_esg_constraint = df_esg_nace[(df_esg_nace.esg >= esg_bound)].replace('','nan')\n",
    "K = len(df_esg_constraint.index)\n",
    "print('Selected {K} out of {N} instruments by filtering ESG Score >= {esg}\\n'.format(K=K,N=N,esg=esg_bound))\n",
    "df_esg_constraint"
   ]
  },
  {
   "cell_type": "markdown",
   "metadata": {},
   "source": [
    "### Reading instruments time series price data\n",
    "For the selcted instruments we get the time series data for one year. We need to remove the NA data in order to prevent problems with calculating the covariance matrix."
   ]
  },
  {
   "cell_type": "code",
   "execution_count": null,
   "metadata": {},
   "outputs": [],
   "source": [
    "print('Loading timeseries data from eikon')\n",
    "start='2020-01-01'\n",
    "end='2020-12-31'\n",
    "instruments = df_esg_constraint.index\n",
    "timeseries_data =pandas.DataFrame()\n",
    "for r in instruments:\n",
    "    try:\n",
    "        ts1 = ek.get_timeseries(r,'CLOSE',start_date=start,end_date=end,interval='daily')\n",
    "        ts1.rename(columns = {'CLOSE' : r}, inplace=True)\n",
    "        timeseries_data =pandas.concat([timeseries_data, ts1], axis=1)\n",
    "    except:\n",
    "        continue\n",
    "\n",
    "timeseries_data = timeseries_data.dropna()\n",
    "timeseries_data"
   ]
  },
  {
   "cell_type": "markdown",
   "metadata": {},
   "source": [
    "## Minimum Volatility Portfolio (MVP) on the ESG-constrained universe\n",
    "We compute the classical MVP in the same way as in our [previous article](https://developers.refinitiv.com/en/article-catalog/article/SustainablePortfolioSelection) -- please consult that tutorial for details. Given the pre-filter on the constituents' ESG Score, the MVP satisfies a lower bound\n",
    "\n",
    "$$\\text{ESG}(\\text{MVP}) \\geq 70 $$"
   ]
  },
  {
   "cell_type": "code",
   "execution_count": null,
   "metadata": {
    "scrolled": true
   },
   "outputs": [],
   "source": [
    "returns = timeseries_data.pct_change().replace(numpy.inf, numpy.nan).dropna()\n",
    "covMatrix = returns.cov()\n",
    "\n",
    "def risk_measure(covMatrix, weights):\n",
    "    return numpy.dot(weights, numpy.dot(covMatrix, weights))\n",
    "\n",
    "bounds = K * [(0, 1)]\n",
    "\n",
    "constraints = {'type': 'eq', 'fun': lambda weights: weights.sum() - 1}\n",
    "\n",
    "mvp = sco.minimize(lambda x: risk_measure(covMatrix, x),  # function to be minimized\n",
    "                   K * [1 / K],  # initial guess\n",
    "                   bounds=bounds,  # box constraints\n",
    "                   constraints =constraints,  # equality constraints\n",
    "                   )\n",
    "\n",
    "print('''MVP in a universe with {K} instruments\n",
    "Number of selected instruments: {n}\n",
    "Minimum weight: {minw}\n",
    "Maximum weight: {maxw}\n",
    "Historical risk measure: {risk}\n",
    "Historical return p.a.: {r}\n",
    "ESG score: {esg}'''.format(K=K,\n",
    "                           n=numpy.sum(mvp['x']>1e-4),\n",
    "                           minw=numpy.min(mvp['x'][numpy.nonzero(mvp['x'])]),\n",
    "                           maxw=numpy.max(mvp['x']),\n",
    "                           risk=risk_measure(covMatrix, mvp['x']),\n",
    "                           r=numpy.dot(mvp['x'],returns.sum()),\n",
    "                           esg=numpy.dot(mvp['x'], df_esg_constraint['esg'])))"
   ]
  },
  {
   "cell_type": "markdown",
   "metadata": {},
   "source": [
    "You may use the the code in the [previous article](https://developers.refinitiv.com/en/article-catalog/article/SustainablePortfolioSelection) to get further insights into the structure of the resulting MVP. We now go further and plot the distribution of the investment on the NACE divisions:\n",
    "### Pie chart of the business sectors distribution of the MVP\n",
    "Given the weight (portion) of each instrument within the (ESG-constrained) portfolio, the portion of the investment within each business sector is accumulated by the function calcWeightsForPieChart(df). Then, a pie chart illustrates, how the money is allotted to business sectors. "
   ]
  },
  {
   "cell_type": "code",
   "execution_count": null,
   "metadata": {},
   "outputs": [],
   "source": [
    "nace_dict ={'01': 'Crop and animal production, hunting and related service activities', '02': 'Forestry and logging', '03': 'Fishing and aquaculture', '05': 'Mining of coal and lignite', '06': 'Extraction of crude petroleum and natural gas', '07': 'Mining of metal ores', '08': 'Other mining and quarrying', '09': 'Mining support service activities', '10': 'Manufacture of food products', '11': 'Manufacture of beverages', '12': 'Manufacture of tobacco products', '13': 'Manufacture of textiles', '14': 'Manufacture of wearing apparel', '15': 'Manufacture of leather and related products', '16': 'Manufacture of wood and of products of wood and cork, except furniture; manufacture of articles of straw and plaiting materials', '17': 'Manufacture of paper and paper products', '18': 'Printing and reproduction of recorded media', '19': 'Manufacture of coke and refined petroleum products', '20': 'Manufacture of chemicals and chemical products', '21': 'Manufacture of basic pharmaceutical products and pharmaceutical preparations', '22': 'Manufacture of rubber and plastic products', '23': 'Manufacture of other non-metallic mineral products', '24': 'Manufacture of basic metals', '25': 'Manufacture of fabricated metal products, except machinery and equipment', '26': 'Manufacture of computer, electronic and optical products', '27': 'Manufacture of electrical equipment', '28': 'Manufacture of machinery and equipment n.e.c.', '29': 'Manufacture of motor vehicles, trailers and semi-trailers', '30': 'Manufacture of other transport equipment', '31': 'Manufacture of furniture', '32': 'Other manufacturing', '33': 'Repair and installation of machinery and equipment', '35': 'Electricity, gas, steam and air conditioning supply', '36': 'Water collection, treatment and supply', '37': 'Sewerage', '38': 'Waste collection, treatment and disposal activities; materials recovery', '39': 'Remediation activities and other waste management services', '41': 'Construction of buildings', '42': 'Civil engineering', '43': 'Specialised construction activities', '45': 'Wholesale and retail trade and repair of motor vehicles and motorcycles', '46': 'Wholesale trade, except of motor vehicles and motorcycles', '47': 'Retail trade, except of motor vehicles and motorcycles', '49': 'Land transport and transport via pipelines', '50': 'Water transport', '51': 'Air transport', '52': 'Warehousing and support activities for transportation', '53': 'Postal and courier activities', '55': 'Accommodation', '56': 'Food and beverage service activities', '58': 'Publishing activities', '59': 'Motion picture, video and television programme production, sound recording and music publishing activities', '60': 'Programming and broadcasting activities', '61': 'Telecommunications', '62': 'Computer programming, consultancy and related activities', '63': 'Information service activities', '64': 'Financial service activities, except insurance and pension funding', '65': 'Insurance, reinsurance and pension funding, except compulsory social security', '66': 'Activities auxiliary to financial services and insurance activities', '68': 'Real estate activities', '69': 'Legal and accounting activities', '70': 'Activities of head offices; management consultancy activities', '71': 'Architectural and engineering activities; technical testing and analysis', '72': 'Scientific research and development ', '73': 'Advertising and market research', '74': 'Other professional, scientific and technical activities', '75': 'Veterinary activities', '77': 'Rental and leasing activities', '78': 'Employment activities', '79': 'Travel agency, tour operator and other reservation service and related activities', '80': 'Security and investigation activities', '81': 'Services to buildings and landscape activities', '82': 'Office administrative, office support and other business support activities', '84': 'Public administration and defence; compulsory social security', '85': 'Education', '86': 'Human health activities', '87': 'Residential care activities', '88': 'Social work activities without accommodation', '90': 'Creative, arts and entertainment activities', '91': 'Libraries, archives, museums and other cultural activities', '92': 'Gambling and betting activities', '93': 'Sports activities and amusement and recreation activities', '94': 'Activities of membership organisations', '95': 'Repair of computers and personal and household goods', '96': 'Other personal service activities', '97': 'Activities of households as employers of domestic personnel', '98': 'Undifferentiated goods- and services-producing activities of private households for own use', '99': 'Activities of extraterritorial organisations and bodies', 'nan': 'Others'}\n",
    "\n",
    "def calcWeightsForPieChart(df):\n",
    "    #calculate weights for pie chart\n",
    "    df_nan = df.replace('','nan')\n",
    "    sections = {item for item in list(df_nan['nace_code']) if len(item)>0}\n",
    "    piesizes = {}\n",
    "    for s in sections:\n",
    "        piesizes[str(s)] = df_nan[df_nan['nace_code']==s]['weight'].values.sum()\n",
    "\n",
    "    return piesizes\n",
    "\n",
    "def plotPieChartWithNACELabels(nace_dict,piesizes):\n",
    "    ## piechart for nace codes\n",
    "    labels = []\n",
    "    sizes = []\n",
    "    for x, y in piesizes.items():\n",
    "        labels.append('{d} ({c})'.format(d=nace_dict[x],c=str(x)))\n",
    "        sizes.append(y)\n",
    "    plt.figure(figsize=(10, 10), dpi=80)\n",
    "    plt.pie(sizes, labels=labels)\n",
    "    plt.axis('equal')\n",
    "    plt.show()\n",
    "    \n",
    "df_esg_constraint['weight'] = list(mvp['x'])\n",
    "piesizes = calcWeightsForPieChart(df_esg_constraint)\n",
    "plotPieChartWithNACELabels(nace_dict, piesizes)"
   ]
  },
  {
   "cell_type": "markdown",
   "metadata": {},
   "source": [
    "The minimum volatility portfolio is nicely diversified and covers a large number of business sectors. Note that using e.g. address or currency data from Refinitiv, you can also plot the distribution over countries or currencies. \n",
    "\n",
    "## Balancing volatility with historical return and ESG-score\n",
    "In addition to a small risk, previously estimated by a small historical volatility, one may aim for a high return and high ESG ratings in addition to the lower bound of 70 that was imposed on the optimization universe. The following code minimizes historical volatility and in addition, minimizes - 0.0002 * historical return and - 0.00002* ESG-rating of a portfolio. There is thus a trade-of between a higher return or higher ESG Score with low volatility. The factors 0.0002 and 0.00002 mirror the importance of each of the criteria. With a higher factor, e.g. with the return term, the portfolio is selected focusing more on the return, and less on the the other measures. "
   ]
  },
  {
   "cell_type": "code",
   "execution_count": null,
   "metadata": {},
   "outputs": [],
   "source": [
    "esg_ret_mvp = sco.minimize(lambda x: risk_measure(covMatrix, x) - 0.0002*numpy.dot(x, returns.sum()) - 0.00002*numpy.dot(x, df_esg_constraint['esg']),  # function to be minimized\n",
    "                   K * [1 / K],  # initial guess\n",
    "                   bounds=bounds,  # box constraints\n",
    "                   constraints =constraints,  # equality constraints\n",
    "                   )\n",
    "\n",
    "print('''Solution to balanced volatility, return, ESG problem in a universe with {K} instruments\n",
    "Number of selected instruments: {n}\n",
    "Minimum weight: {minw}\n",
    "Maximum weight: {maxw}\n",
    "Historical risk measure: {risk}\n",
    "Historical return p.a.: {r}\n",
    "ESG score: {esg}'''.format(K=K,\n",
    "                           n=numpy.sum(esg_ret_mvp['x']>1e-4),\n",
    "                           minw=numpy.min(esg_ret_mvp['x'][numpy.nonzero(esg_ret_mvp['x'])]),\n",
    "                           maxw=numpy.max(esg_ret_mvp['x']),\n",
    "                           risk=risk_measure(covMatrix, esg_ret_mvp['x']),\n",
    "                           r=numpy.dot(esg_ret_mvp['x'],returns.sum()),\n",
    "                           esg=numpy.dot(esg_ret_mvp['x'], df_esg_constraint['esg'])))"
   ]
  },
  {
   "cell_type": "markdown",
   "metadata": {},
   "source": [
    "We gain some insight into the business sector diversification from the according pie chart: Notice, that we now have a trade-of between volatility and returns as well as ESG-scores. Since the latter terms do not diversify, but rather select high weights for companies with high return and/or ESG-score, the current portfolio is less distributed over the business sectors than the MVP from before.   "
   ]
  },
  {
   "cell_type": "code",
   "execution_count": null,
   "metadata": {},
   "outputs": [],
   "source": [
    "df_esg_constraint['weight'] = list(esg_ret_mvp['x'])\n",
    "\n",
    "piesizes = calcWeightsForPieChart(df_esg_constraint)\n",
    "plotPieChartWithNACELabels(nace_dict, piesizes)"
   ]
  },
  {
   "cell_type": "markdown",
   "metadata": {},
   "source": [
    "## An approach to impact modeling\n",
    "The idea behind impact investment is to invest specifically in companies that have a positive impact on social or environmental goals. Depending on the location or on the sector of economic activities, a high ESG Score can have a different impact -- for instance, a company that cares for clean drinking water has more impact in countries where clean water is actually an issue. Or using only renewable energies has much more impact in energy intense business sectors. We leave an evaluation of this kind of impact to experts in the field, and show here, how impact expertise can be included into our portfolio selection model.  \n",
    "### Organization of impact information\n",
    "We assume that wise people provide a score between 0 and 10 for each of the sectors covered by our universe. The score 0 means that an ESG-Rating exceeding the lower bound of 70 has no impact in this sector, whereas the score 10 implies a high impact of extra ESG points. To keep our example simple and illustrative, we just select one sector (construction of buildings, no. 41) which has the impact 10, and assume that all others have the impact 0 (for whatever reason). This impact information is assumed to be given by experts in a dictionary **nace_dict** with 2 digit NACE codes as keys and the respective impact score as values. \n",
    "You may use the commented line with random numbers for a more realistic setting of nace_dict. \n",
    "The impact scores are included into the instruments dataframe in the last line of the following code block. "
   ]
  },
  {
   "cell_type": "code",
   "execution_count": null,
   "metadata": {},
   "outputs": [],
   "source": [
    "nace_impact_dict ={key: 0 for key in nace_dict.keys()}\n",
    "nace_impact_dict['41']=10\n",
    "#nace_impact_dict ={key: random.randint(0, 10) for key in nace_dict.keys()}\n",
    "df_esg_constraint['nace_impact'] = df_esg_constraint['nace_code'].apply(lambda x: nace_impact_dict[x])"
   ]
  },
  {
   "cell_type": "markdown",
   "metadata": {},
   "source": [
    "### Computation of the impact-ESG score of a portfolio\n",
    "The **impact-ESG score** of a company now combines the ESG-Score with the sector impact score as follows: \n",
    "\n",
    "$$impactESG = impact \\cdot (ESG - esgBound)$$\n",
    "\n",
    "This formula is applied to each company in a dataframe of all companies in the optimization universe in the following line, "
   ]
  },
  {
   "cell_type": "code",
   "execution_count": null,
   "metadata": {},
   "outputs": [],
   "source": [
    "impact_esg_score = lambda df: df['nace_impact']*(df['esg']-esg_bound)"
   ]
  },
  {
   "cell_type": "markdown",
   "metadata": {},
   "source": [
    "and we compute some impact-ESG-scores of weighted portfolios in a scalar product as follows, "
   ]
  },
  {
   "cell_type": "code",
   "execution_count": null,
   "metadata": {},
   "outputs": [],
   "source": [
    "mvp_impact_esg = numpy.dot(mvp['x'], impact_esg_score(df_esg_constraint))\n",
    "mvp_ret_impact_esg = numpy.dot(esg_ret_mvp['x'], impact_esg_score(df_esg_constraint))\n",
    "print('ESG of MVP: {mvpesg}\\nImpact-ESG of MVP: {mvpiesg}\\n'.format(mvpesg=numpy.dot(mvp['x'], df_esg_constraint['esg']), mvpiesg=mvp_impact_esg))\n",
    "print('ESG of balanced: {balesg}\\nImpact-ESG of balanced: {baliesg}'.format(balesg=numpy.dot(esg_ret_mvp['x'], df_esg_constraint['esg']), baliesg=mvp_ret_impact_esg))"
   ]
  },
  {
   "cell_type": "markdown",
   "metadata": {},
   "source": [
    "Remember that the ESG-aware portfolio has a higher ESG-score than the basic MVP. \n",
    "But nevertheless, the impact-ESG score (which, in our example, sais that ESG-ratings higher than 70 make sense only for companies constructing buildings) is even decreased compared to the MVP. \n",
    "### Impact-ESG-aware portfolio selection\n",
    "In order to build an impact-ESG-aware portfolio, we exchange the simple ESG-term with the impact-ESG term in the minimization problem. "
   ]
  },
  {
   "cell_type": "code",
   "execution_count": null,
   "metadata": {},
   "outputs": [],
   "source": [
    "impact_esg_mvp = sco.minimize(lambda x: risk_measure(covMatrix, x) - 0.0002*numpy.dot(x, returns.sum()) - 0.000004*numpy.dot(x, impact_esg_score(df_esg_constraint)),  # function to be minimized\n",
    "                   K * [1 / K],  # initial guess\n",
    "                   bounds=bounds,  # boundary conditions\n",
    "                   constraints =constraints,  # equality constraints\n",
    "                   )\n",
    "\n",
    "\n",
    "print('''Solution to weighted impact ESG problem in a universe with {K} instruments\n",
    "Number of selected instruments: {n}\n",
    "Minimum weight: {minw}\n",
    "Maximum weight: {maxw}\n",
    "Historical risk measure: {risk}\n",
    "Historical return p.a.: {r}\n",
    "ESG score: {esg}'''.format(K=K,\n",
    "                           n=numpy.sum(impact_esg_mvp['x']>1e-4),\n",
    "                           minw=numpy.min(impact_esg_mvp['x'][numpy.nonzero(impact_esg_mvp['x'])]),\n",
    "                           maxw=numpy.max(impact_esg_mvp['x']),\n",
    "                           risk=risk_measure(covMatrix, impact_esg_mvp['x']),\n",
    "                           r=numpy.dot(impact_esg_mvp['x'],returns.sum()),\n",
    "                           esg=numpy.dot(impact_esg_mvp['x'], df_esg_constraint['esg'])))"
   ]
  },
  {
   "cell_type": "markdown",
   "metadata": {},
   "source": [
    "We compare the ESG- and impact-ESG-ratings of the three portfolios: "
   ]
  },
  {
   "cell_type": "code",
   "execution_count": null,
   "metadata": {},
   "outputs": [],
   "source": [
    "mvp_impact_esg = numpy.dot(mvp['x'], impact_esg_score(df_esg_constraint))\n",
    "mvp_ret_impact_esg = numpy.dot(esg_ret_mvp['x'], impact_esg_score(df_esg_constraint))\n",
    "\n",
    "print('ESG of MVP: {esg}\\nImpact-ESG of MVP: {iesg}\\n'.format(\n",
    "    esg=numpy.dot(mvp['x'], df_esg_constraint['esg']), \n",
    "    iesg=mvp_impact_esg))\n",
    "\n",
    "print('ESG of return and ESG balanced: {esg}\\nImpact-ESG of return and ESG balanced: {iesg}\\n'.format(\n",
    "    esg=numpy.dot(esg_ret_mvp['x'], df_esg_constraint['esg']),\n",
    "    iesg=mvp_ret_impact_esg))\n",
    "print('ESG of return and impact-ESG balanced: {esg}\\nImpact-ESG of return and impact-ESG balanced: {iesg}\\n'.format(\n",
    "    esg=numpy.dot(impact_esg_mvp['x'], df_esg_constraint['esg']), \n",
    "    iesg=numpy.dot(impact_esg_mvp['x'], impact_esg_score(df_esg_constraint))))"
   ]
  },
  {
   "cell_type": "markdown",
   "metadata": {},
   "source": [
    "In fact, the impact-ESG optimization was successful: The respective portfolio achieves a much higher impact-ESG-score than the competing portfolios. \n",
    "\n",
    "We also plot the business sectors pie chart and of course, the impact-ESG-aware portfolio has a special focus on the construction of buildings: "
   ]
  },
  {
   "cell_type": "code",
   "execution_count": null,
   "metadata": {},
   "outputs": [],
   "source": [
    "df_esg_constraint['weight'] = impact_esg_mvp['x']\n",
    "\n",
    "piesizes = calcWeightsForPieChart(df_esg_constraint)\n",
    "plotPieChartWithNACELabels(nace_dict, piesizes)"
   ]
  },
  {
   "cell_type": "markdown",
   "metadata": {},
   "source": [
    "## Resume and outlook\n",
    "We hope that we could show, how different aspects and criteria can be considered in a portfolio selection strategy. We have constructed 3 portfolios: All of them satisfy a lower bound on the ESG-score in every constituent. By using specific objective functions in the minimization problem, we could steer the distribution of the investment to have low volatility in the first one, and a trade-of between low volatility but also high returns and high ESG-scores in the second one. For the third portfolio, we showed a model for impact-ESG scores and included it into the optimization goal. \n",
    "\n",
    "This tutorial aims to show some key techniques and thus scratches only the surface of ESG- and risk-aware portfolio selection. One can refine the models in many aspects, and one could go for more details in the analysis of the results. We refer to the literature and to the large pool of Refinitiv tutorials in the developers' community. "
   ]
  }
 ],
 "metadata": {
  "kernelspec": {
   "display_name": "Python 3",
   "language": "python",
   "name": "python3"
  },
  "language_info": {
   "codemirror_mode": {
    "name": "ipython",
    "version": 3
   },
   "file_extension": ".py",
   "mimetype": "text/x-python",
   "name": "python",
   "nbconvert_exporter": "python",
   "pygments_lexer": "ipython3",
   "version": "3.7.1"
  }
 },
 "nbformat": 4,
 "nbformat_minor": 2
}
